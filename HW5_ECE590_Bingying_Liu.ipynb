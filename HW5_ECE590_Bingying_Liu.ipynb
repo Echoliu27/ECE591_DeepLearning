{
 "cells": [
  {
   "cell_type": "markdown",
   "metadata": {},
   "source": [
    "# ECE 590, Fall 2019 \n",
    "## Problem Set 5\n",
    " \n",
    "\n",
    "## Full name: Bingying Liu\n"
   ]
  },
  {
   "cell_type": "code",
   "execution_count": 1,
   "metadata": {},
   "outputs": [],
   "source": [
    "import torch\n",
    "import torch.nn as nn\n",
    "import torch.nn.functional as F\n",
    "import torch.optim as optim\n",
    "import torchvision.datasets as dsets\n",
    "import torchvision.transforms as transforms\n",
    "import matplotlib.pyplot as plt\n",
    "import numpy as np"
   ]
  },
  {
   "cell_type": "code",
   "execution_count": 2,
   "metadata": {},
   "outputs": [
    {
     "data": {
      "text/plain": [
       "'\\nThe data features can be extracted as train_dataset/test_dataset.data\\nThe labels can be extracted as train_dataset/test_dataset.targets \\n'"
      ]
     },
     "execution_count": 2,
     "metadata": {},
     "output_type": "execute_result"
    }
   ],
   "source": [
    "# Download and prepare the Fashion MNIST data set \n",
    "batch_size = 500\n",
    "train_dataset = dsets.FashionMNIST(root='./data', train=True, transform=transforms.ToTensor(), download=True)\n",
    "train_loader = torch.utils.data.DataLoader(train_dataset, batch_size=batch_size, shuffle=True, num_workers=0)\n",
    "test_dataset = dsets.FashionMNIST(root='./data', train=False, transform=transforms.ToTensor())\n",
    "test_loader = torch.utils.data.DataLoader(test_dataset, batch_size=batch_size, shuffle=False, num_workers=0)\n",
    "\"\"\"\n",
    "The data features can be extracted as train_dataset/test_dataset.data\n",
    "The labels can be extracted as train_dataset/test_dataset.targets \n",
    "\"\"\""
   ]
  },
  {
   "cell_type": "code",
   "execution_count": 3,
   "metadata": {},
   "outputs": [],
   "source": [
    "class ConvNet(nn.Module):\n",
    "    def __init__(self, in_channels, out_channels):\n",
    "        super(ConvNet, self).__init__()\n",
    "        self.conv1 = nn.Conv2d(in_channels=in_channels, out_channels=6, kernel_size=5, stride=1, padding=0, bias=True) # Choose 6 filters\n",
    "        self.fc1   = nn.Linear(in_features=6*12*12, out_features=out_channels)\n",
    "\n",
    "    def forward(self, x):\n",
    "        x = F.relu(self.conv1(x))\n",
    "        x = F.max_pool2d(x, 2)\n",
    "        x = x.view(x.size(0), -1)\n",
    "        x = self.fc1(x)\n",
    "        return x"
   ]
  },
  {
   "cell_type": "code",
   "execution_count": 7,
   "metadata": {},
   "outputs": [],
   "source": [
    "losses = []\n",
    "def train(model, train_loader, criterion, optimizer, epoch):\n",
    "    train_loss = 0\n",
    "    model.train()\n",
    "    for batch_idx, (data, target) in enumerate(train_loader):\n",
    "        optimizer.zero_grad()\n",
    "        output = model(data)\n",
    "        loss = criterion(output, target)\n",
    "        loss.backward()\n",
    "        optimizer.step()\n",
    "        train_loss += loss.item()\n",
    "        if batch_idx % (len(train_loader)//2) == 0:\n",
    "            losses.append(train_loss/(batch_idx+1))\n",
    "            print('Train({})[{:.0f}%]: Loss: {:.4f}'.format(\n",
    "                epoch, 100. * batch_idx / len(train_loader), train_loss/(batch_idx+1)))\n",
    "\n",
    "accuracies = []\n",
    "def test(model, test_loader, criterion, epoch):\n",
    "    model.eval()\n",
    "    test_loss = 0\n",
    "    correct = 0\n",
    "    with torch.no_grad():\n",
    "        for data, target in test_loader:\n",
    "            output = model(data)\n",
    "            test_loss += criterion(output, target).item() # sum up batch loss\n",
    "            pred = output.argmax(dim=1, keepdim=True) # get the index of the max log-probability\n",
    "            correct += pred.eq(target.view_as(pred)).sum().item()\n",
    "\n",
    "    test_loss = (test_loss*batch_size)/len(test_loader.dataset)\n",
    "    accuracies.append(correct / len(test_loader.dataset))\n",
    "    print('Test({}): Loss: {:.4f}, Accuracy: {:.4f}%'.format(\n",
    "        epoch, test_loss, 100. * correct / len(test_loader.dataset)))"
   ]
  },
  {
   "cell_type": "code",
   "execution_count": 8,
   "metadata": {},
   "outputs": [],
   "source": [
    "def make_optimizer(optimizer_name, model, **kwargs):\n",
    "    if optimizer_name=='Adam':\n",
    "        optimizer = optim.Adam(model.parameters(),betas=(0.9, 0.999), eps=1e-08, lr=kwargs['lr'])\n",
    "    else:\n",
    "        raise ValueError('Not valid optimizer name')\n",
    "    return optimizer\n",
    "    \n",
    "def make_scheduler(scheduler_name, optimizer, **kwargs):\n",
    "    if scheduler_name=='MultiStepLR':\n",
    "        scheduler = optim.lr_scheduler.MultiStepLR(optimizer,milestones=kwargs['milestones'],gamma=kwargs['factor'])\n",
    "    else:\n",
    "        raise ValueError('Not valid scheduler name')\n",
    "    return scheduler"
   ]
  },
  {
   "cell_type": "code",
   "execution_count": 9,
   "metadata": {},
   "outputs": [
    {
     "name": "stdout",
     "output_type": "stream",
     "text": [
      "Train(1)[0%]: Loss: 2.3729\n",
      "Train(1)[50%]: Loss: 0.7492\n",
      "Test(1): Loss: 0.4512, Accuracy: 84.1900%\n",
      "Train(2)[0%]: Loss: 0.4177\n",
      "Train(2)[50%]: Loss: 0.4099\n",
      "Test(2): Loss: 0.4016, Accuracy: 86.2400%\n",
      "Train(3)[0%]: Loss: 0.3471\n",
      "Train(3)[50%]: Loss: 0.3592\n",
      "Test(3): Loss: 0.3689, Accuracy: 87.2400%\n",
      "Train(4)[0%]: Loss: 0.3359\n",
      "Train(4)[50%]: Loss: 0.3283\n",
      "Test(4): Loss: 0.3398, Accuracy: 87.9200%\n",
      "Train(5)[0%]: Loss: 0.3381\n",
      "Train(5)[50%]: Loss: 0.3086\n",
      "Test(5): Loss: 0.3338, Accuracy: 88.1400%\n",
      "Train(6)[0%]: Loss: 0.2738\n",
      "Train(6)[50%]: Loss: 0.2818\n",
      "Test(6): Loss: 0.3210, Accuracy: 88.9300%\n",
      "Train(7)[0%]: Loss: 0.2451\n",
      "Train(7)[50%]: Loss: 0.2784\n",
      "Test(7): Loss: 0.3194, Accuracy: 89.0100%\n",
      "Train(8)[0%]: Loss: 0.2963\n",
      "Train(8)[50%]: Loss: 0.2782\n",
      "Test(8): Loss: 0.3186, Accuracy: 89.0000%\n",
      "Train(9)[0%]: Loss: 0.2425\n",
      "Train(9)[50%]: Loss: 0.2760\n",
      "Test(9): Loss: 0.3175, Accuracy: 88.8900%\n",
      "Train(10)[0%]: Loss: 0.3073\n",
      "Train(10)[50%]: Loss: 0.2767\n",
      "Test(10): Loss: 0.3175, Accuracy: 88.7400%\n",
      "Train(11)[0%]: Loss: 0.2369\n",
      "Train(11)[50%]: Loss: 0.2747\n",
      "Test(11): Loss: 0.3158, Accuracy: 89.0100%\n",
      "Train(12)[0%]: Loss: 0.3016\n",
      "Train(12)[50%]: Loss: 0.2707\n",
      "Test(12): Loss: 0.3166, Accuracy: 89.0200%\n",
      "Train(13)[0%]: Loss: 0.2904\n",
      "Train(13)[50%]: Loss: 0.2678\n",
      "Test(13): Loss: 0.3146, Accuracy: 89.1000%\n",
      "Train(14)[0%]: Loss: 0.2611\n",
      "Train(14)[50%]: Loss: 0.2674\n",
      "Test(14): Loss: 0.3141, Accuracy: 88.9600%\n",
      "Train(15)[0%]: Loss: 0.3192\n",
      "Train(15)[50%]: Loss: 0.2612\n",
      "Test(15): Loss: 0.3130, Accuracy: 89.0000%\n",
      "Train(16)[0%]: Loss: 0.3319\n",
      "Train(16)[50%]: Loss: 0.2649\n",
      "Test(16): Loss: 0.3117, Accuracy: 89.1200%\n",
      "Train(17)[0%]: Loss: 0.2379\n",
      "Train(17)[50%]: Loss: 0.2593\n",
      "Test(17): Loss: 0.3094, Accuracy: 89.0100%\n",
      "Train(18)[0%]: Loss: 0.2123\n",
      "Train(18)[50%]: Loss: 0.2627\n",
      "Test(18): Loss: 0.3093, Accuracy: 89.1600%\n",
      "Train(19)[0%]: Loss: 0.2970\n",
      "Train(19)[50%]: Loss: 0.2607\n",
      "Test(19): Loss: 0.3120, Accuracy: 88.9500%\n",
      "Train(20)[0%]: Loss: 0.2668\n",
      "Train(20)[50%]: Loss: 0.2646\n",
      "Test(20): Loss: 0.3101, Accuracy: 88.9300%\n"
     ]
    }
   ],
   "source": [
    "seed = 1\n",
    "optimizer_name = 'Adam'\n",
    "scheduler_name = 'MultiStepLR'\n",
    "num_epochs = 20\n",
    "lr = 0.01\n",
    "torch.manual_seed(1)\n",
    "in_channels = 1\n",
    "out_channels = 10\n",
    "model = ConvNet(in_channels, out_channels)\n",
    "criterion = nn.CrossEntropyLoss()\n",
    "optimizer = make_optimizer(optimizer_name, model, lr=lr)\n",
    "scheduler = make_scheduler(scheduler_name, optimizer, milestones=[5], factor=0.1)\n",
    "for epoch in range(1, num_epochs + 1):\n",
    "    train(model, train_loader, criterion, optimizer, epoch)\n",
    "    test(model, test_loader, criterion, epoch)\n",
    "    scheduler.step()\n",
    "    if epoch % 50 == 0:\n",
    "        print('Optimizer Learning rate: {0:.4f}'.format(optimizer.param_groups[0]['lr']))"
   ]
  },
  {
   "cell_type": "code",
   "execution_count": 10,
   "metadata": {},
   "outputs": [
    {
     "data": {
      "image/png": "[encoded data removed]",
      "text/plain": [
       "<matplotlib.figure.Figure at 0x7f4d788e4400>"
      ]
     },
     "metadata": {},
     "output_type": "display_data"
    }
   ],
   "source": [
    "import matplotlib.pyplot as plt\n",
    "plt.title(\"Cross Entropy Loss vs. Epochs\")\n",
    "plt.xlabel(\"Epochs\")\n",
    "plt.ylabel(\"Cross entropy loss\")\n",
    "plt.plot(range(len(losses)),losses)\n",
    "plt.show()"
   ]
  },
  {
   "cell_type": "code",
   "execution_count": 11,
   "metadata": {},
   "outputs": [
    {
     "data": {
      "image/png": "[encoded data removed]",
      "text/plain": [
       "<matplotlib.figure.Figure at 0x7f4d77edbf28>"
      ]
     },
     "metadata": {},
     "output_type": "display_data"
    }
   ],
   "source": [
    "plt.plot(range(len(accuracies)),accuracies)\n",
    "plt.title(\"Accuracy vs. Epochs\")\n",
    "plt.xlabel(\"Epochs\")\n",
    "plt.ylabel(\"Accuracy\")\n",
    "plt.show()"
   ]
  }
 ],
 "metadata": {
  "kernelspec": {
   "display_name": "Python 3",
   "language": "python",
   "name": "python3"
  },
  "language_info": {
   "codemirror_mode": {
    "name": "ipython",
    "version": 3
   },
   "file_extension": ".py",
   "mimetype": "text/x-python",
   "name": "python",
   "nbconvert_exporter": "python",
   "pygments_lexer": "ipython3",
   "version": "3.6.4"
  }
 },
 "nbformat": 4,
 "nbformat_minor": 2
}
